{
 "cells": [
  {
   "cell_type": "markdown",
   "metadata": {},
   "source": [
    "# CHECK ACCESS TO THE REDSHIFT CLUSTER"
   ]
  },
  {
   "cell_type": "code",
   "execution_count": null,
   "metadata": {},
   "outputs": [],
   "source": [
    "from time import time\n",
    "import configparser\n",
    "import matplotlib.pyplot as plt\n",
    "import pandas as pd"
   ]
  },
  {
   "cell_type": "markdown",
   "metadata": {},
   "source": [
    "# STEP 1: Get the params of the created redshift cluster \n",
    "- We need:\n",
    "    - The redshift cluster <font color='red'>endpoint</font>\n",
    "    - The <font color='red'>IAM role ARN</font> that give access to Redshift to read from S3"
   ]
  },
  {
   "cell_type": "code",
   "execution_count": null,
   "metadata": {},
   "outputs": [],
   "source": [
    "config = configparser.ConfigParser()\n",
    "config.read_file(open('dwh.cfg'))\n",
    "# KEY=config.get('AWS','key')\n",
    "# SECRET= config.get('AWS','secret')\n",
    "\n",
    "DWH_DB= config.get(\"CLUSTER\",\"DWH_DB\")\n",
    "DWH_DB_USER= config.get(\"CLUSTER\",\"DWH_DB_USER\")\n",
    "DWH_DB_PASSWORD= config.get(\"CLUSTER\",\"DWH_DB_PASSWORD\")\n",
    "DWH_PORT = config.get(\"CLUSTER\",\"DWH_PORT\")\n",
    "DWH_ENDPOINT = config.get(\"CLUSTER\", \"HOST\")\n",
    "\n",
    "print(f\"HOST = {DWH_ENDPOINT}\")\n",
    "print(f\"DB = {DWH_DB}\")\n",
    "print(f\"DB_USER = {DWH_DB_USER}\")\n",
    "print(f\"DB_PASSWORD = {DWH_DB_PASSWORD}\")\n"
   ]
  },
  {
   "cell_type": "markdown",
   "metadata": {},
   "source": [
    "# STEP 2: Connect to the Redshift Cluster"
   ]
  },
  {
   "cell_type": "code",
   "execution_count": null,
   "outputs": [],
   "source": [
    "import psycopg2\n",
    "\n",
    "# Construct the connection string\n",
    "conn_string = f\"postgresql://{DWH_DB_USER}:{DWH_DB_PASSWORD}@{DWH_ENDPOINT}:{DWH_PORT}/{DWH_DB}\"\n",
    "print(f\"connection string = '{conn_string}'\")\n",
    "\n",
    "# Connect to the database\n",
    "conn = psycopg2.connect(conn_string)\n",
    "\n",
    "# Create a cursor object\n",
    "cursor = conn.cursor()\n",
    "print(cursor)"
   ],
   "metadata": {
    "collapsed": false
   }
  },
  {
   "cell_type": "markdown",
   "source": [
    "# STEP 3 validate counts"
   ],
   "metadata": {
    "collapsed": false
   }
  },
  {
   "cell_type": "code",
   "execution_count": null,
   "outputs": [],
   "source": [
    "# validate dimensions loaded\n",
    "query_string = \"\"\"\n",
    "select 'users' table_name, count(*) from users union all\n",
    "select 'songs' table_name, count(*) from songs union all\n",
    "select 'artists' table_name, count(*) from artists union all\n",
    "select 'time' table_name, count(*) from time;\n",
    "\"\"\"\n",
    "\n",
    "cursor.execute(query_string)\n",
    "results = cursor.fetchall()\n",
    "print(f\"{results}\")"
   ],
   "metadata": {
    "collapsed": false
   }
  },
  {
   "cell_type": "code",
   "execution_count": null,
   "outputs": [],
   "source": [
    "\n",
    "# Close the cursor and connection\n",
    "cursor.close()\n",
    "conn.close()"
   ],
   "metadata": {
    "collapsed": false
   }
  }
 ],
 "metadata": {
  "kernelspec": {
   "display_name": "Python 3",
   "language": "python",
   "name": "python3"
  },
  "language_info": {
   "codemirror_mode": {
    "name": "ipython",
    "version": 3
   },
   "file_extension": ".py",
   "mimetype": "text/x-python",
   "name": "python",
   "nbconvert_exporter": "python",
   "pygments_lexer": "ipython3",
   "version": "3.6.3"
  }
 },
 "nbformat": 4,
 "nbformat_minor": 2
}
